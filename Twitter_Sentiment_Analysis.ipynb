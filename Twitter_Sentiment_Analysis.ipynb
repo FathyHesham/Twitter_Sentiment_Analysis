{
  "cells": [
    {
      "attachments": {},
      "cell_type": "markdown",
      "metadata": {
        "id": "tae5lGfknEgo"
      },
      "source": [
        "# Name Project (Twitter Sentiment Analysis)\n",
        "\n",
        "* Column Names and The Definition\n",
        "\n",
        "1. Tweet_UniqueID     ----->    The unique ID of each tweet\n",
        "2. Entity             ----->    The names of the companies that have tweet data\n",
        "3. Sentiment          ----->    The status of tweets if they are ['Positive' 'Neutral' 'Negative' 'Irrelevant']\n",
        "4. Tweet_content      ----->    Text content for each tweet"
      ]
    },
    {
      "cell_type": "code",
      "execution_count": 2,
      "metadata": {
        "colab": {
          "base_uri": "https://localhost:8080/"
        },
        "id": "MhMLnxnYnEgp",
        "outputId": "715d9f39-a405-45d6-ba25-443c598cc282"
      },
      "outputs": [
        {
          "name": "stderr",
          "output_type": "stream",
          "text": [
            "[nltk_data] Downloading package stopwords to\n",
            "[nltk_data]     C:\\Users\\fathy\\AppData\\Roaming\\nltk_data...\n",
            "[nltk_data]   Package stopwords is already up-to-date!\n"
          ]
        }
      ],
      "source": [
        "# Important Libraries\n",
        "import pandas as pd   # read csv file\n",
        "import numpy as np  # linear algebra\n",
        "import matplotlib.pyplot as plt  # using in data visualization\n",
        "import seaborn as sns # using in data visualization\n",
        "import re  # regular expression\n",
        "import nltk    # work with human language data --> corpra\n",
        "nltk.download('stopwords')   # install the stopword\n",
        "from sklearn.metrics import accuracy_score  # calculate the accuracy \n",
        "from sklearn.metrics import precision_score # calcualte the precision\n",
        "from sklearn.metrics import recall_score # calculate the recall\n",
        "from sklearn.metrics import f1_score # calculate the f1-score\n",
        "from sklearn.metrics import classification_report # print the details of model\n",
        "from sklearn.metrics import confusion_matrix # calculate confusion matrix"
      ]
    },
    {
      "cell_type": "markdown",
      "metadata": {},
      "source": [
        "# Preprocessing Dataset"
      ]
    },
    {
      "cell_type": "code",
      "execution_count": 3,
      "metadata": {
        "id": "NQJHV4M9nEgq"
      },
      "outputs": [],
      "source": [
        "# Adding row names for the csv file which will be read later\n",
        "Headers = ['Tweet_UniqueID','Entity','Sentiment','Tweet_content']"
      ]
    },
    {
      "cell_type": "code",
      "execution_count": 4,
      "metadata": {
        "colab": {
          "base_uri": "https://localhost:8080/",
          "height": 363
        },
        "id": "hIR7AVDInEgr",
        "outputId": "9d9e9c66-edc1-4ba2-a484-9c79fbe0b28c"
      },
      "outputs": [],
      "source": [
        "# Load The Training And Testing Dataset Using Pandas\n",
        "train = pd.read_csv('twitter_training.csv' , names = Headers)\n",
        "test = pd.read_csv('twitter_validation.csv' , names = Headers)"
      ]
    },
    {
      "cell_type": "code",
      "execution_count": 5,
      "metadata": {
        "id": "zAA8AHNlnEgr"
      },
      "outputs": [
        {
          "data": {
            "text/html": [
              "<div>\n",
              "<style scoped>\n",
              "    .dataframe tbody tr th:only-of-type {\n",
              "        vertical-align: middle;\n",
              "    }\n",
              "\n",
              "    .dataframe tbody tr th {\n",
              "        vertical-align: top;\n",
              "    }\n",
              "\n",
              "    .dataframe thead th {\n",
              "        text-align: right;\n",
              "    }\n",
              "</style>\n",
              "<table border=\"1\" class=\"dataframe\">\n",
              "  <thead>\n",
              "    <tr style=\"text-align: right;\">\n",
              "      <th></th>\n",
              "      <th>Tweet_UniqueID</th>\n",
              "      <th>Entity</th>\n",
              "      <th>Sentiment</th>\n",
              "      <th>Tweet_content</th>\n",
              "    </tr>\n",
              "  </thead>\n",
              "  <tbody>\n",
              "    <tr>\n",
              "      <th>44141</th>\n",
              "      <td>10380</td>\n",
              "      <td>PlayerUnknownsBattlegrounds(PUBG)</td>\n",
              "      <td>Irrelevant</td>\n",
              "      <td>Love.....................</td>\n",
              "    </tr>\n",
              "    <tr>\n",
              "      <th>51404</th>\n",
              "      <td>10422</td>\n",
              "      <td>RedDeadRedemption(RDR)</td>\n",
              "      <td>Positive</td>\n",
              "      <td>This is fantastic!</td>\n",
              "    </tr>\n",
              "    <tr>\n",
              "      <th>32434</th>\n",
              "      <td>7564</td>\n",
              "      <td>LeagueOfLegends</td>\n",
              "      <td>Irrelevant</td>\n",
              "      <td>the constant mouse clicking is what always eve...</td>\n",
              "    </tr>\n",
              "    <tr>\n",
              "      <th>48586</th>\n",
              "      <td>5940</td>\n",
              "      <td>HomeDepot</td>\n",
              "      <td>Positive</td>\n",
              "      <td>C Congratulations Sandy on 6 years with Home D...</td>\n",
              "    </tr>\n",
              "    <tr>\n",
              "      <th>49075</th>\n",
              "      <td>6025</td>\n",
              "      <td>FIFA</td>\n",
              "      <td>Negative</td>\n",
              "      <td>@ EAHelp I have just ordered 15: 99 of the Fif...</td>\n",
              "    </tr>\n",
              "    <tr>\n",
              "      <th>10231</th>\n",
              "      <td>12962</td>\n",
              "      <td>Xbox(Xseries)</td>\n",
              "      <td>Irrelevant</td>\n",
              "      <td>It's good.</td>\n",
              "    </tr>\n",
              "    <tr>\n",
              "      <th>47176</th>\n",
              "      <td>5694</td>\n",
              "      <td>HomeDepot</td>\n",
              "      <td>Negative</td>\n",
              "      <td>this is some real home of depot shit</td>\n",
              "    </tr>\n",
              "    <tr>\n",
              "      <th>53713</th>\n",
              "      <td>2030</td>\n",
              "      <td>CallOfDuty</td>\n",
              "      <td>Irrelevant</td>\n",
              "      <td>Happy 4th of July to the @ callofduty Nation. ...</td>\n",
              "    </tr>\n",
              "    <tr>\n",
              "      <th>14103</th>\n",
              "      <td>2818</td>\n",
              "      <td>Dota2</td>\n",
              "      <td>Irrelevant</td>\n",
              "      <td>thank ful reddit</td>\n",
              "    </tr>\n",
              "    <tr>\n",
              "      <th>48151</th>\n",
              "      <td>5866</td>\n",
              "      <td>HomeDepot</td>\n",
              "      <td>Negative</td>\n",
              "      <td>Thank you Mobile Police Department, we appreci...</td>\n",
              "    </tr>\n",
              "  </tbody>\n",
              "</table>\n",
              "</div>"
            ],
            "text/plain": [
              "       Tweet_UniqueID                             Entity   Sentiment  \\\n",
              "44141           10380  PlayerUnknownsBattlegrounds(PUBG)  Irrelevant   \n",
              "51404           10422             RedDeadRedemption(RDR)    Positive   \n",
              "32434            7564                    LeagueOfLegends  Irrelevant   \n",
              "48586            5940                          HomeDepot    Positive   \n",
              "49075            6025                               FIFA    Negative   \n",
              "10231           12962                      Xbox(Xseries)  Irrelevant   \n",
              "47176            5694                          HomeDepot    Negative   \n",
              "53713            2030                         CallOfDuty  Irrelevant   \n",
              "14103            2818                              Dota2  Irrelevant   \n",
              "48151            5866                          HomeDepot    Negative   \n",
              "\n",
              "                                           Tweet_content  \n",
              "44141                          Love.....................  \n",
              "51404                                 This is fantastic!  \n",
              "32434  the constant mouse clicking is what always eve...  \n",
              "48586  C Congratulations Sandy on 6 years with Home D...  \n",
              "49075  @ EAHelp I have just ordered 15: 99 of the Fif...  \n",
              "10231                                         It's good.  \n",
              "47176               this is some real home of depot shit  \n",
              "53713  Happy 4th of July to the @ callofduty Nation. ...  \n",
              "14103                                   thank ful reddit  \n",
              "48151  Thank you Mobile Police Department, we appreci...  "
            ]
          },
          "execution_count": 5,
          "metadata": {},
          "output_type": "execute_result"
        }
      ],
      "source": [
        "# Show Samples Of train dataset\n",
        "train.sample(10)   "
      ]
    },
    {
      "cell_type": "code",
      "execution_count": 6,
      "metadata": {
        "id": "IKeQe0m_nEgs"
      },
      "outputs": [
        {
          "name": "stdout",
          "output_type": "stream",
          "text": [
            "Count of columns in the train dataset -->  4\n",
            "Count of rows in the train dataset -->  74682\n",
            "Count of columns in the test dataset -->  4\n",
            "Count of rows in the test dataset -->  1000\n"
          ]
        }
      ],
      "source": [
        "# Show Number Of columns and Number of Rows\n",
        "print('Count of columns in the train dataset --> ', len(train.columns))\n",
        "print('Count of rows in the train dataset --> ', len(train))\n",
        "print('Count of columns in the test dataset --> ', len(test.columns))\n",
        "print('Count of rows in the test dataset --> ', len(test))"
      ]
    },
    {
      "cell_type": "code",
      "execution_count": 7,
      "metadata": {
        "id": "vsDWwEHjnEgs"
      },
      "outputs": [
        {
          "name": "stdout",
          "output_type": "stream",
          "text": [
            "Train Columns    Data Types\n",
            "Tweet_UniqueID     int64\n",
            "Entity            object\n",
            "Sentiment         object\n",
            "Tweet_content     object\n",
            "dtype: object\n",
            "\n",
            "Test columns     Data Types\n",
            "Tweet_UniqueID     int64\n",
            "Entity            object\n",
            "Sentiment         object\n",
            "Tweet_content     object\n",
            "dtype: object\n"
          ]
        }
      ],
      "source": [
        "# Show the data type of trainind and testing dataset\n",
        "print(\"Train Columns    Data Types\\n{}\\n\".format(train.dtypes))\n",
        "print(\"Test columns     Data Types\\n{}\".format(test.dtypes))"
      ]
    },
    {
      "cell_type": "code",
      "execution_count": 8,
      "metadata": {
        "id": "ob_irHkUnEgt"
      },
      "outputs": [
        {
          "name": "stdout",
          "output_type": "stream",
          "text": [
            "<class 'pandas.core.frame.DataFrame'>\n",
            "RangeIndex: 74682 entries, 0 to 74681\n",
            "Data columns (total 4 columns):\n",
            " #   Column          Non-Null Count  Dtype \n",
            "---  ------          --------------  ----- \n",
            " 0   Tweet_UniqueID  74682 non-null  int64 \n",
            " 1   Entity          74682 non-null  object\n",
            " 2   Sentiment       74682 non-null  object\n",
            " 3   Tweet_content   73996 non-null  object\n",
            "dtypes: int64(1), object(3)\n",
            "memory usage: 2.3+ MB\n"
          ]
        }
      ],
      "source": [
        "# Show the Information of Training Dataset\n",
        "train.info()"
      ]
    },
    {
      "cell_type": "code",
      "execution_count": 9,
      "metadata": {
        "id": "tmc2g1hwnEgt"
      },
      "outputs": [
        {
          "name": "stdout",
          "output_type": "stream",
          "text": [
            "<class 'pandas.core.frame.DataFrame'>\n",
            "RangeIndex: 1000 entries, 0 to 999\n",
            "Data columns (total 4 columns):\n",
            " #   Column          Non-Null Count  Dtype \n",
            "---  ------          --------------  ----- \n",
            " 0   Tweet_UniqueID  1000 non-null   int64 \n",
            " 1   Entity          1000 non-null   object\n",
            " 2   Sentiment       1000 non-null   object\n",
            " 3   Tweet_content   1000 non-null   object\n",
            "dtypes: int64(1), object(3)\n",
            "memory usage: 31.4+ KB\n"
          ]
        }
      ],
      "source": [
        "# Show the Information of Testing Dataset\n",
        "test.info()"
      ]
    },
    {
      "cell_type": "code",
      "execution_count": 10,
      "metadata": {
        "id": "jHb4QzHsnEgt"
      },
      "outputs": [
        {
          "name": "stdout",
          "output_type": "stream",
          "text": [
            "Number of row to duplicate value :  2700\n",
            "Number of row to duplicate value :  0\n"
          ]
        }
      ],
      "source": [
        "# sum of duplicate values in training and testing dataset\n",
        "print('Number of row to duplicate value : ' , train.duplicated().sum())\n",
        "print('Number of row to duplicate value : ' , test.duplicated().sum())"
      ]
    },
    {
      "cell_type": "code",
      "execution_count": 11,
      "metadata": {
        "id": "lBUOBaKWnEgt"
      },
      "outputs": [],
      "source": [
        "# drop the duplicate of dataset\n",
        "train = train.drop_duplicates()"
      ]
    },
    {
      "cell_type": "code",
      "execution_count": 12,
      "metadata": {
        "id": "lmLJzYAOnEgt"
      },
      "outputs": [
        {
          "data": {
            "text/plain": [
              "Tweet_UniqueID      0\n",
              "Entity              0\n",
              "Sentiment           0\n",
              "Tweet_content     326\n",
              "dtype: int64"
            ]
          },
          "execution_count": 12,
          "metadata": {},
          "output_type": "execute_result"
        }
      ],
      "source": [
        "# Check the missing value in dataset\n",
        "train.isna().sum()"
      ]
    },
    {
      "cell_type": "code",
      "execution_count": 13,
      "metadata": {
        "id": "9T9lMib_nEgu"
      },
      "outputs": [
        {
          "data": {
            "text/plain": [
              "Tweet_UniqueID    0\n",
              "Entity            0\n",
              "Sentiment         0\n",
              "Tweet_content     0\n",
              "dtype: int64"
            ]
          },
          "execution_count": 13,
          "metadata": {},
          "output_type": "execute_result"
        }
      ],
      "source": [
        "# Check the missing value in dataset\n",
        "test.isna().sum()"
      ]
    },
    {
      "cell_type": "code",
      "execution_count": 14,
      "metadata": {
        "id": "7OAlZIH8nEgu"
      },
      "outputs": [],
      "source": [
        "# drop all null value from tweet_content\n",
        "train.dropna(axis=0, inplace=True)"
      ]
    },
    {
      "cell_type": "code",
      "execution_count": 15,
      "metadata": {
        "id": "gJC87ZCHnEgu"
      },
      "outputs": [
        {
          "name": "stdout",
          "output_type": "stream",
          "text": [
            "Number of Value of label -->  4\n",
            "Unique Value in label -->  ['Positive' 'Neutral' 'Negative' 'Irrelevant']\n"
          ]
        }
      ],
      "source": [
        "# Show the Unique value and Number in the label called Sentiment\n",
        "print('Number of Value of label --> ' , train['Sentiment'].nunique())\n",
        "print('Unique Value in label --> ' , train['Sentiment'].unique())"
      ]
    },
    {
      "cell_type": "code",
      "execution_count": 16,
      "metadata": {
        "id": "BHugDTbgnEgu"
      },
      "outputs": [],
      "source": [
        "# Removing neutral and Irrelevant sentiments \n",
        "train = train[train['Sentiment'] != \"Neutral\"]\n",
        "train = train[train['Sentiment'] != \"Irrelevant\"]\n",
        "test = test[test['Sentiment'] != \"Neutral\"]\n",
        "test = test[test['Sentiment'] != \"Irrelevant\"]"
      ]
    },
    {
      "cell_type": "code",
      "execution_count": 17,
      "metadata": {
        "id": "RuqvTs2SnEgu"
      },
      "outputs": [
        {
          "name": "stdout",
          "output_type": "stream",
          "text": [
            "Count The Value in Training dataset \n",
            "Negative    21698\n",
            "Positive    19713\n",
            "Name: Sentiment, dtype: int64\n",
            "\n",
            "Count The Value in Testing dataset \n",
            "Positive    277\n",
            "Negative    266\n",
            "Name: Sentiment, dtype: int64\n"
          ]
        }
      ],
      "source": [
        "# Show the number of Negative and Neutral and Positive\n",
        "print(\"Count The Value in Training dataset \\n{}\\n\".format(train['Sentiment'].value_counts()))\n",
        "print(\"Count The Value in Testing dataset \\n{}\".format(test['Sentiment'].value_counts()))"
      ]
    },
    {
      "cell_type": "code",
      "execution_count": 18,
      "metadata": {
        "id": "TLdETgGInEgv"
      },
      "outputs": [
        {
          "data": {
            "image/png": "[encoded data removed]",
            "text/plain": [
              "<Figure size 640x480 with 1 Axes>"
            ]
          },
          "metadata": {},
          "output_type": "display_data"
        }
      ],
      "source": [
        "sns.countplot(x = 'Sentiment' , data = train);"
      ]
    },
    {
      "cell_type": "code",
      "execution_count": 19,
      "metadata": {
        "id": "b6WmMCwGnEgv"
      },
      "outputs": [
        {
          "data": {
            "image/png": "[encoded data removed]",
            "text/plain": [
              "<Figure size 500x500 with 1 Axes>"
            ]
          },
          "metadata": {},
          "output_type": "display_data"
        }
      ],
      "source": [
        "# pie chart using seaborn based on total count of different sentiments in training dataset \n",
        "train.Sentiment.value_counts().plot(kind='pie', autopct='%1.0f%%',figsize=(5,5),colors=[\"blue\", \"yellow\"]);"
      ]
    },
    {
      "cell_type": "code",
      "execution_count": 20,
      "metadata": {
        "id": "gtMTk729nEgv"
      },
      "outputs": [
        {
          "data": {
            "image/png": "[encoded data removed]",
            "text/plain": [
              "<Figure size 2000x500 with 1 Axes>"
            ]
          },
          "metadata": {},
          "output_type": "display_data"
        }
      ],
      "source": [
        "# entity vs sentiment relation \n",
        "Twitter_sentiment = train.groupby(['Entity', 'Sentiment']).Sentiment.count().unstack()\n",
        "Twitter_sentiment.plot(kind='bar',figsize=(20,5));"
      ]
    },
    {
      "cell_type": "code",
      "execution_count": 21,
      "metadata": {
        "id": "AMv1pyaInEgv"
      },
      "outputs": [],
      "source": [
        "# # Encoder For Labels \n",
        "from sklearn.preprocessing import LabelEncoder\n",
        "label_encoder = LabelEncoder()\n",
        "# converting string based sentiments into numeric valuye which can be further used for training ML algorithm\n",
        "train['Sentiment'] = label_encoder.fit_transform(train['Sentiment'])\n",
        "test['Sentiment'] = label_encoder.fit_transform(test['Sentiment'])"
      ]
    },
    {
      "cell_type": "code",
      "execution_count": 22,
      "metadata": {
        "id": "BSt7Dg-inEgw"
      },
      "outputs": [],
      "source": [
        "#get train and test target variables\n",
        "y_train = train[\"Sentiment\"]\n",
        "y_test = test[\"Sentiment\"]"
      ]
    },
    {
      "attachments": {},
      "cell_type": "markdown",
      "metadata": {},
      "source": [
        "# Preprocessing Sentence"
      ]
    },
    {
      "cell_type": "code",
      "execution_count": 23,
      "metadata": {
        "id": "lU3_Eki6nEgv"
      },
      "outputs": [],
      "source": [
        "# Apostrophe Dictionary\n",
        "apostrophe_dict = {\n",
        "\"ain't\": \"am not / are not\",\n",
        "\"aren't\": \"are not / am not\",\n",
        "\"can't\": \"cannot\",\n",
        "\"can't've\": \"cannot have\",\n",
        "\"'cause\": \"because\",\n",
        "\"could've\": \"could have\",\n",
        "\"couldn't\": \"could not\",\n",
        "\"couldn't've\": \"could not have\",\n",
        "\"didn't\": \"did not\",\n",
        "\"doesn't\": \"does not\",\n",
        "\"don't\": \"do not\",\n",
        "\"hadn't\": \"had not\",\n",
        "\"hadn't've\": \"had not have\",\n",
        "\"hasn't\": \"has not\",\n",
        "\"haven't\": \"have not\",\n",
        "\"he'd\": \"he had / he would\",\n",
        "\"he'd've\": \"he would have\",\n",
        "\"he'll\": \"he shall / he will\",\n",
        "\"he'll've\": \"he shall have / he will have\",\n",
        "\"he's\": \"he has / he is\",\n",
        "\"how'd\": \"how did\",\n",
        "\"how'd'y\": \"how do you\",\n",
        "\"how'll\": \"how will\",\n",
        "\"how's\": \"how has / how is\",\n",
        "\"i'd\": \"I had / I would\",\n",
        "\"i'd've\": \"I would have\",\n",
        "\"i'll\": \"I shall / I will\",\n",
        "\"i'll've\": \"I shall have / I will have\",\n",
        "\"i'm\": \"I am\",\n",
        "\"i've\": \"I have\",\n",
        "\"isn't\": \"is not\",\n",
        "\"it'd\": \"it had / it would\",\n",
        "\"it'd've\": \"it would have\",\n",
        "\"it'll\": \"it shall / it will\",\n",
        "\"it'll've\": \"it shall have / it will have\",\n",
        "\"it's\": \"it has / it is\",\n",
        "\"let's\": \"let us\",\n",
        "\"ma'am\": \"madam\",\n",
        "\"mayn't\": \"may not\",\n",
        "\"might've\": \"might have\",\n",
        "\"mightn't\": \"might not\",\n",
        "\"mightn't've\": \"might not have\",\n",
        "\"must've\": \"must have\",\n",
        "\"mustn't\": \"must not\",\n",
        "\"mustn't've\": \"must not have\",\n",
        "\"needn't\": \"need not\",\n",
        "\"needn't've\": \"need not have\",\n",
        "\"o'clock\": \"of the clock\",\n",
        "\"oughtn't\": \"ought not\",\n",
        "\"oughtn't've\": \"ought not have\",\n",
        "\"shan't\": \"shall not\",\n",
        "\"sha'n't\": \"shall not\",\n",
        "\"shan't've\": \"shall not have\",\n",
        "\"she'd\": \"she had / she would\",\n",
        "\"she'd've\": \"she would have\",\n",
        "\"she'll\": \"she shall / she will\",\n",
        "\"she'll've\": \"she shall have / she will have\",\n",
        "\"she's\": \"she has / she is\",\n",
        "\"should've\": \"should have\",\n",
        "\"shouldn't\": \"should not\",\n",
        "\"shouldn't've\": \"should not have\",\n",
        "\"so've\": \"so have\",\n",
        "\"so's\": \"so as / so is\",\n",
        "\"that'd\": \"that would / that had\",\n",
        "\"that'd've\": \"that would have\",\n",
        "\"that's\": \"that has / that is\",\n",
        "\"there'd\": \"there had / there would\",\n",
        "\"there'd've\": \"there would have\",\n",
        "\"there's\": \"there has / there is\",\n",
        "\"they'd\": \"they had / they would\",\n",
        "\"they'd've\": \"they would have\",\n",
        "\"they'll\": \"they shall / they will\",\n",
        "\"they'll've\": \"they shall have / they will have\",\n",
        "\"they're\": \"they are\",\n",
        "\"they've\": \"they have\",\n",
        "\"to've\": \"to have\",\n",
        "\"wasn't\": \"was not\",\n",
        "\"we'd\": \"we had / we would\",\n",
        "\"we'd've\": \"we would have\",\n",
        "\"we'll\": \"we will\",\n",
        "\"we'll've\": \"we will have\",\n",
        "\"we're\": \"we are\",\n",
        "\"we've\": \"we have\",\n",
        "\"weren't\": \"were not\",\n",
        "\"what'll\": \"what shall / what will\",\n",
        "\"what'll've\": \"what shall have / what will have\",\n",
        "\"what're\": \"what are\",\n",
        "\"what's\": \"what has / what is\",\n",
        "\"what've\": \"what have\",\n",
        "\"when's\": \"when has / when is\",\n",
        "\"when've\": \"when have\",\n",
        "\"where'd\": \"where did\",\n",
        "\"where's\": \"where has / where is\",\n",
        "\"where've\": \"where have\",\n",
        "\"who'll\": \"who shall / who will\",\n",
        "\"who'll've\": \"who shall have / who will have\",\n",
        "\"who's\": \"who has / who is\",\n",
        "\"who've\": \"who have\",\n",
        "\"why's\": \"why has / why is\",\n",
        "\"why've\": \"why have\",\n",
        "\"will've\": \"will have\",\n",
        "\"won't\": \"will not\",\n",
        "\"won't've\": \"will not have\",\n",
        "\"would've\": \"would have\",\n",
        "\"wouldn't\": \"would not\",\n",
        "\"wouldn't've\": \"would not have\",\n",
        "\"y'all\": \"you all\",\n",
        "\"y'all'd\": \"you all would\",\n",
        "\"y'all'd've\": \"you all would have\",\n",
        "\"y'all're\": \"you all are\",\n",
        "\"y'all've\": \"you all have\",\n",
        "\"you'd\": \"you had / you would\",\n",
        "\"you'd've\": \"you would have\",\n",
        "\"you'll\": \"you shall / you will\",\n",
        "\"you'll've\": \"you shall have / you will have\",\n",
        "\"you're\": \"you are\",\n",
        "\"you've\": \"you have\"\n",
        "}\n",
        "def lookup_dict(text, dictionary):\n",
        "    for word in text.split():\n",
        "        if word.lower() in dictionary:\n",
        "            if word.lower() in text.split():\n",
        "                text = text.replace(word, dictionary[word.lower()])\n",
        "    return text\n",
        "train['Tweet_content'] = train['Tweet_content'].apply(lambda x: lookup_dict(x,apostrophe_dict))\n",
        "test['Tweet_content'] = test['Tweet_content'].apply(lambda x: lookup_dict(x,apostrophe_dict))"
      ]
    },
    {
      "cell_type": "code",
      "execution_count": 24,
      "metadata": {
        "id": "SOXytORunEgw"
      },
      "outputs": [],
      "source": [
        "short_word_dict = {\n",
        "\"121\": \"one to one\",\n",
        "\"a/s/l\": \"age, sex, location\",\n",
        "\"adn\": \"any day now\",\n",
        "\"afaik\": \"as far as I know\",\n",
        "\"afk\": \"away from keyboard\",\n",
        "\"aight\": \"alright\",\n",
        "\"alol\": \"actually laughing out loud\",\n",
        "\"b4\": \"before\",\n",
        "\"b4n\": \"bye for now\",\n",
        "\"bak\": \"back at the keyboard\",\n",
        "\"bf\": \"boyfriend\",\n",
        "\"bff\": \"best friends forever\",\n",
        "\"bfn\": \"bye for now\",\n",
        "\"bg\": \"big grin\",\n",
        "\"bta\": \"but then again\",\n",
        "\"btw\": \"by the way\",\n",
        "\"cid\": \"crying in disgrace\",\n",
        "\"cnp\": \"continued in my next post\",\n",
        "\"cp\": \"chat post\",\n",
        "\"cu\": \"see you\",\n",
        "\"cul\": \"see you later\",\n",
        "\"cul8r\": \"see you later\",\n",
        "\"cya\": \"bye\",\n",
        "\"cyo\": \"see you online\",\n",
        "\"dbau\": \"doing business as usual\",\n",
        "\"fud\": \"fear, uncertainty, and doubt\",\n",
        "\"fwiw\": \"for what it's worth\",\n",
        "\"fyi\": \"for your information\",\n",
        "\"g\": \"grin\",\n",
        "\"g2g\": \"got to go\",\n",
        "\"ga\": \"go ahead\",\n",
        "\"gal\": \"get a life\",\n",
        "\"gf\": \"girlfriend\",\n",
        "\"gfn\": \"gone for now\",\n",
        "\"gmbo\": \"giggling my butt off\",\n",
        "\"gmta\": \"great minds think alike\",\n",
        "\"h8\": \"hate\",\n",
        "\"hagn\": \"have a good night\",\n",
        "\"hdop\": \"help delete online predators\",\n",
        "\"hhis\": \"hanging head in shame\",\n",
        "\"iac\": \"in any case\",\n",
        "\"ianal\": \"I am not a lawyer\",\n",
        "\"ic\": \"I see\",\n",
        "\"idk\": \"I don't know\",\n",
        "\"imao\": \"in my arrogant opinion\",\n",
        "\"imnsho\": \"in my not so humble opinion\",\n",
        "\"imo\": \"in my opinion\",\n",
        "\"iow\": \"in other words\",\n",
        "\"ipn\": \"I’m posting naked\",\n",
        "\"irl\": \"in real life\",\n",
        "\"jk\": \"just kidding\",\n",
        "\"l8r\": \"later\",\n",
        "\"ld\": \"later, dude\",\n",
        "\"ldr\": \"long distance relationship\",\n",
        "\"llta\": \"lots and lots of thunderous applause\",\n",
        "\"lmao\": \"laugh my ass off\",\n",
        "\"lmirl\": \"let's meet in real life\",\n",
        "\"lol\": \"laugh out loud\",\n",
        "\"ltr\": \"longterm relationship\",\n",
        "\"lulab\": \"love you like a brother\",\n",
        "\"lulas\": \"love you like a sister\",\n",
        "\"luv\": \"love\",\n",
        "\"m/f\": \"male or female\",\n",
        "\"m8\": \"mate\",\n",
        "\"milf\": \"mother I would like to fuck\",\n",
        "\"oll\": \"online love\",\n",
        "\"omg\": \"oh my god\",\n",
        "\"otoh\": \"on the other hand\",\n",
        "\"pir\": \"parent in room\",\n",
        "\"ppl\": \"people\",\n",
        "\"r\": \"are\",\n",
        "\"rofl\": \"roll on the floor laughing\",\n",
        "\"rpg\": \"role playing games\",\n",
        "\"ru\": \"are you\",\n",
        "\"shid\": \"slaps head in disgust\",\n",
        "\"somy\": \"sick of me yet\",\n",
        "\"sot\": \"short of time\",\n",
        "\"thanx\": \"thanks\",\n",
        "\"thx\": \"thanks\",\n",
        "\"ttyl\": \"talk to you later\",\n",
        "\"u\": \"you\",\n",
        "\"ur\": \"you are\",\n",
        "\"uw\": \"you’re welcome\",\n",
        "\"wb\": \"welcome back\",\n",
        "\"wfm\": \"works for me\",\n",
        "\"wibni\": \"wouldn't it be nice if\",\n",
        "\"wtf\": \"what the fuck\",\n",
        "\"wtg\": \"way to go\",\n",
        "\"wtgp\": \"want to go private\",\n",
        "\"ym\": \"young man\",\n",
        "\"gr8\": \"great\"\n",
        "}\n",
        "train['Tweet_content'] = train['Tweet_content'].apply(lambda x: lookup_dict(x,short_word_dict))\n",
        "test['Tweet_content'] = test['Tweet_content'].apply(lambda x: lookup_dict(x,short_word_dict))"
      ]
    },
    {
      "cell_type": "code",
      "execution_count": 25,
      "metadata": {
        "id": "IS0xfnATnEgx"
      },
      "outputs": [],
      "source": [
        "train['Tweet_content'] = train['Tweet_content'].str.lower()\n",
        "test['Tweet_content'] = test['Tweet_content'].str.lower()"
      ]
    },
    {
      "cell_type": "code",
      "execution_count": 26,
      "metadata": {
        "id": "FdrISOrnnEgx"
      },
      "outputs": [],
      "source": [
        "def cleaning_Links(data):\n",
        "    return re.sub(r'https?://\\S+|www\\.\\S+',' ',data)\n",
        "train['Tweet_content'] = train['Tweet_content'].apply(lambda x: cleaning_Links(x))\n",
        "test['Tweet_content'] = test['Tweet_content'].apply(lambda x: cleaning_Links(x))"
      ]
    },
    {
      "cell_type": "code",
      "execution_count": 27,
      "metadata": {
        "id": "lk0A3laFnEgx"
      },
      "outputs": [],
      "source": [
        "def cleaning_Html_tage(data):\n",
        "    return re.sub(r'<[^>]+>',' ',data) \n",
        "train['Tweet_content'] = train['Tweet_content'].apply(lambda x: cleaning_Html_tage(x))\n",
        "test['Tweet_content'] = test['Tweet_content'].apply(lambda x: cleaning_Html_tage(x))"
      ]
    },
    {
      "cell_type": "code",
      "execution_count": 28,
      "metadata": {
        "id": "-LDqKENanEgx"
      },
      "outputs": [],
      "source": [
        "# def cleaning_numbers(data):\n",
        "#     return re.sub('[0-9]+', '', data)\n",
        "# train['Tweet_content'] = train['Tweet_content'].apply(lambda x: cleaning_numbers(x))\n",
        "# test['Tweet_content'] = test['Tweet_content'].apply(lambda x: cleaning_numbers(x))"
      ]
    },
    {
      "cell_type": "code",
      "execution_count": 29,
      "metadata": {
        "id": "9uJAfWzbnEgx"
      },
      "outputs": [],
      "source": [
        "def cleaning_special_char(data):\n",
        "    return re.sub(r'[^\\w\\s]+' , '', data)\n",
        "train['Tweet_content'] = train['Tweet_content'].apply(lambda x: cleaning_special_char(x))\n",
        "test['Tweet_content'] = test['Tweet_content'].apply(lambda x: cleaning_special_char(x))"
      ]
    },
    {
      "cell_type": "code",
      "execution_count": 30,
      "metadata": {
        "id": "CSl1Zyv_nEgy"
      },
      "outputs": [],
      "source": [
        "#remove newlines, tabs, and carriage returns\n",
        "def cleaning_NTC(data):\n",
        "    return re.sub(r'(\\r\\n|\\n|\\r|\\t)+' , '', data)\n",
        "train['Tweet_content'] = train['Tweet_content'].apply(lambda x: cleaning_NTC(x))\n",
        "test['Tweet_content'] = test['Tweet_content'].apply(lambda x: cleaning_NTC(x))"
      ]
    },
    {
      "cell_type": "code",
      "execution_count": 31,
      "metadata": {
        "id": "7RieqVNcnEgy"
      },
      "outputs": [],
      "source": [
        "#remove multiple space characters\n",
        "def cleaning_MSC(data):\n",
        "    return re.sub(r'(\\s{2,}' , '', data)\n",
        "train['Tweet_content'] = train['Tweet_content'].apply(lambda x: cleaning_NTC(x))\n",
        "test['Tweet_content'] = test['Tweet_content'].apply(lambda x: cleaning_NTC(x))"
      ]
    },
    {
      "cell_type": "code",
      "execution_count": 32,
      "metadata": {
        "id": "2LZE437ZnEgy"
      },
      "outputs": [],
      "source": [
        "from nltk.corpus import stopwords\n",
        "# Importing stop words from NLTK corpus for english language\n",
        "stop_words = set(stopwords.words('english'))\n",
        "train['Tweet_content'] = train['Tweet_content'].apply(lambda x: [word for word in x if not word in stop_words])\n",
        "test['Tweet_content'] = test['Tweet_content'].apply(lambda x: [word for word in x if not word in stop_words])"
      ]
    },
    {
      "cell_type": "code",
      "execution_count": 33,
      "metadata": {
        "id": "i2dWXFwWnEgy"
      },
      "outputs": [],
      "source": [
        "# Importing library for stemming\n",
        "from nltk.stem import PorterStemmer\n",
        "stemming = PorterStemmer()\n",
        "train['Tweet_content'] = train['Tweet_content'].apply(lambda x: ' '.join([stemming.stem(i) for i in x]))\n",
        "test['Tweet_content'] = test['Tweet_content'].apply(lambda x: ' '.join([stemming.stem(i) for i in x]))"
      ]
    },
    {
      "cell_type": "code",
      "execution_count": 34,
      "metadata": {
        "id": "oXgBXJHxnEgy"
      },
      "outputs": [],
      "source": [
        "# # Importing library for lemmatizing\n",
        "# from nltk.stem.wordnet import WordNetLemmatizer\n",
        "# lemmatizing = WordNetLemmatizer()\n",
        "# # Created one more columns tweet_lemmatized it shows tweets' lemmatized version\n",
        "# train['Tweet_content'] = train['Tweet_content'].apply(lambda x: ' '.join([lemmatizing.lemmatize(i) for i in x]))\n",
        "# test['Tweet_content'] = test['Tweet_content'].apply(lambda x: ' '.join([lemmatizing.lemmatize(i) for i in x]))"
      ]
    },
    {
      "cell_type": "code",
      "execution_count": 35,
      "metadata": {
        "id": "rkE7I_kVMst3"
      },
      "outputs": [],
      "source": [
        "# drop the columns called Tweet_UniqueID and Entity\n",
        "train = train.drop(['Tweet_UniqueID'] , axis = 1)\n",
        "train = train.drop(['Entity'] , axis = 1)\n",
        "test = test.drop(['Tweet_UniqueID'] , axis = 1)\n",
        "test = test.drop(['Entity'] , axis = 1)"
      ]
    },
    {
      "cell_type": "code",
      "execution_count": 36,
      "metadata": {
        "id": "Msy8cxdeVJv8"
      },
      "outputs": [
        {
          "data": {
            "text/plain": [
              "Sentiment        0\n",
              "Tweet_content    0\n",
              "dtype: int64"
            ]
          },
          "execution_count": 36,
          "metadata": {},
          "output_type": "execute_result"
        }
      ],
      "source": [
        "train.isna().sum()"
      ]
    },
    {
      "cell_type": "code",
      "execution_count": 37,
      "metadata": {
        "id": "bCSUz1vrnEgy"
      },
      "outputs": [],
      "source": [
        "from keras.preprocessing.text import Tokenizer\n",
        "from tensorflow.keras.preprocessing.sequence import pad_sequences\n",
        "tokenizer = Tokenizer(\n",
        "    num_words = 8000,\n",
        ")\n",
        "# using Tokenizer method converting training tweets data to 3000 features\n",
        "tokenizer.fit_on_texts(train['Tweet_content'])\n",
        "x_train = tokenizer.texts_to_sequences(train['Tweet_content'])\n",
        "x_train = pad_sequences(x_train, maxlen = 3000)\n",
        "# using Tokenizer method converting validation tweets data to 3000 features\n",
        "tokenizer.fit_on_texts(test['Tweet_content'])\n",
        "x_test = tokenizer.texts_to_sequences(test['Tweet_content'])\n",
        "x_test = pad_sequences(x_test, maxlen = 3000)"
      ]
    },
    {
      "attachments": {},
      "cell_type": "markdown",
      "metadata": {},
      "source": [
        "# Models And Evaluate "
      ]
    },
    {
      "cell_type": "markdown",
      "metadata": {
        "id": "9ghIb1mYnEgy"
      },
      "source": [
        "# Decision Tree Classifier"
      ]
    },
    {
      "cell_type": "code",
      "execution_count": 38,
      "metadata": {
        "id": "yXkXAsT2nEgy"
      },
      "outputs": [
        {
          "name": "stdout",
          "output_type": "stream",
          "text": [
            "DecisionTreeClassifier Train Score:  0.9840622056941393\n",
            "DecisionTreeClassifier Test Score:  0.8931860036832413\n",
            "Accuracy Score: 0.8931860036832413\n",
            "Recall Socer: 0.8938886023723569\n",
            "Precision scoer: 0.8948532012734347\n",
            "F1 score: 0.8931566520110732\n",
            "Classification report:\n",
            "               precision    recall  f1-score   support\n",
            "\n",
            "           0       0.86      0.93      0.89       266\n",
            "           1       0.93      0.86      0.89       277\n",
            "\n",
            "    accuracy                           0.89       543\n",
            "   macro avg       0.89      0.89      0.89       543\n",
            "weighted avg       0.90      0.89      0.89       543\n",
            "\n",
            "Confusion Matrix: \n",
            " [[247  19]\n",
            " [ 39 238]]\n"
          ]
        },
        {
          "name": "stderr",
          "output_type": "stream",
          "text": [
            "c:\\Users\\fathy\\anaconda3\\ana 3\\lib\\site-packages\\sklearn\\metrics\\_classification.py:1370: UserWarning: Note that pos_label (set to 'positive') is ignored when average != 'binary' (got 'macro'). You may use labels=[pos_label] to specify a single positive class.\n",
            "  warnings.warn(\n",
            "c:\\Users\\fathy\\anaconda3\\ana 3\\lib\\site-packages\\sklearn\\metrics\\_classification.py:1370: UserWarning: Note that pos_label (set to 'positive') is ignored when average != 'binary' (got 'macro'). You may use labels=[pos_label] to specify a single positive class.\n",
            "  warnings.warn(\n",
            "c:\\Users\\fathy\\anaconda3\\ana 3\\lib\\site-packages\\sklearn\\metrics\\_classification.py:1370: UserWarning: Note that pos_label (set to 'positive') is ignored when average != 'binary' (got 'macro'). You may use labels=[pos_label] to specify a single positive class.\n",
            "  warnings.warn(\n"
          ]
        },
        {
          "data": {
            "image/png": "[encoded data removed]",
            "text/plain": [
              "<Figure size 640x480 with 2 Axes>"
            ]
          },
          "metadata": {},
          "output_type": "display_data"
        }
      ],
      "source": [
        "# Importing Libraries\n",
        "from sklearn.tree import DecisionTreeClassifier\n",
        "model = DecisionTreeClassifier()\n",
        "model.fit(x_train , y_train)\n",
        "y_pred = model.predict(x_test)\n",
        "# calculate train score\n",
        "print('DecisionTreeClassifier Train Score: ' , model.score(x_train, y_train))\n",
        "# calculate test score\n",
        "print('DecisionTreeClassifier Test Score: ' , model.score(x_test, y_test))\n",
        "# show accuracy score\n",
        "print(\"Accuracy Score:\" , accuracy_score(y_test , y_pred))\n",
        "# show recall score\n",
        "print(\"Recall Socer:\" , recall_score(y_test , y_pred , pos_label='positive' , average='macro'))\n",
        "# show precision score\n",
        "print(\"Precision scoer:\" , precision_score(y_test , y_pred,pos_label='positive' , average='macro'))\n",
        "# show f1 score\n",
        "print(\"F1 score:\" , f1_score(y_test , y_pred,pos_label='positive' , average='macro'))\n",
        "# show classification report\n",
        "print(\"Classification report:\\n\" , classification_report(y_test , y_pred));\n",
        "# show the confusion matrix\n",
        "conf_mat = confusion_matrix(y_test , y_pred)\n",
        "print(\"Confusion Matrix: \\n\" , conf_mat);\n",
        "# drawing confusion matrix\n",
        "sns.heatmap(conf_mat, center = True)\n",
        "plt.show();"
      ]
    },
    {
      "cell_type": "markdown",
      "metadata": {
        "id": "kdYAsa9wnEgz"
      },
      "source": [
        "# KNN "
      ]
    },
    {
      "cell_type": "code",
      "execution_count": 39,
      "metadata": {
        "id": "9J77qGbKnEgz"
      },
      "outputs": [
        {
          "name": "stdout",
          "output_type": "stream",
          "text": [
            "KNeighborsClassifier Train Score:  0.7636135326362561\n",
            "KNeighborsClassifier Test Score:  0.7642725598526704\n",
            "Accuracy Score: 0.7642725598526704\n",
            "Recall Socer: 0.7654447490567574\n",
            "Precision scoer: 0.7682921810699588\n",
            "F1 score: 0.7638488719760805\n",
            "Classification report:\n",
            "               precision    recall  f1-score   support\n",
            "\n",
            "           0       0.73      0.82      0.77       266\n",
            "           1       0.81      0.71      0.75       277\n",
            "\n",
            "    accuracy                           0.76       543\n",
            "   macro avg       0.77      0.77      0.76       543\n",
            "weighted avg       0.77      0.76      0.76       543\n",
            "\n",
            "Confusion Matrix: \n",
            " [[219  47]\n",
            " [ 81 196]]\n"
          ]
        },
        {
          "name": "stderr",
          "output_type": "stream",
          "text": [
            "c:\\Users\\fathy\\anaconda3\\ana 3\\lib\\site-packages\\sklearn\\metrics\\_classification.py:1370: UserWarning: Note that pos_label (set to 'positive') is ignored when average != 'binary' (got 'macro'). You may use labels=[pos_label] to specify a single positive class.\n",
            "  warnings.warn(\n",
            "c:\\Users\\fathy\\anaconda3\\ana 3\\lib\\site-packages\\sklearn\\metrics\\_classification.py:1370: UserWarning: Note that pos_label (set to 'positive') is ignored when average != 'binary' (got 'macro'). You may use labels=[pos_label] to specify a single positive class.\n",
            "  warnings.warn(\n",
            "c:\\Users\\fathy\\anaconda3\\ana 3\\lib\\site-packages\\sklearn\\metrics\\_classification.py:1370: UserWarning: Note that pos_label (set to 'positive') is ignored when average != 'binary' (got 'macro'). You may use labels=[pos_label] to specify a single positive class.\n",
            "  warnings.warn(\n"
          ]
        },
        {
          "data": {
            "image/png": "[encoded data removed]",
            "text/plain": [
              "<Figure size 640x480 with 2 Axes>"
            ]
          },
          "metadata": {},
          "output_type": "display_data"
        }
      ],
      "source": [
        "from sklearn.neighbors import KNeighborsClassifier\n",
        "knn = KNeighborsClassifier()\n",
        "knn.fit(x_train, y_train)\n",
        "y_pred = knn.predict(x_test)\n",
        "# calculate train score\n",
        "print('KNeighborsClassifier Train Score: ' , knn.score(x_train, y_train))\n",
        "# calculate test score\n",
        "print('KNeighborsClassifier Test Score: ' , knn.score(x_test, y_test))\n",
        "# show accuracy score\n",
        "print(\"Accuracy Score:\" , accuracy_score(y_test , y_pred))\n",
        "# show recall score\n",
        "print(\"Recall Socer:\" , recall_score(y_test , y_pred , pos_label='positive' , average='macro'))\n",
        "# show precision score\n",
        "print(\"Precision scoer:\" , precision_score(y_test , y_pred,pos_label='positive' , average='macro'))\n",
        "# show f1 score\n",
        "print(\"F1 score:\" , f1_score(y_test , y_pred,pos_label='positive' , average='macro'))\n",
        "# show classification report\n",
        "print(\"Classification report:\\n\" , classification_report(y_test , y_pred))\n",
        "# show the confusion matrix\n",
        "conf_mat = confusion_matrix(y_test , y_pred)\n",
        "print(\"Confusion Matrix: \\n\" , conf_mat);\n",
        "# drawing confusion matrix\n",
        "sns.heatmap(conf_mat, center = True)\n",
        "plt.show();"
      ]
    },
    {
      "cell_type": "markdown",
      "metadata": {
        "id": "V05AzpdmnEgz"
      },
      "source": [
        "# Random Forest Classifier"
      ]
    },
    {
      "cell_type": "code",
      "execution_count": 40,
      "metadata": {
        "id": "BXe7b_5YnEgz"
      },
      "outputs": [
        {
          "name": "stdout",
          "output_type": "stream",
          "text": [
            "RandomForestClassifier Train Score:  0.9832653159788463\n",
            "RandomForestClassifier Test Score:  0.860036832412523\n",
            "Accuracy Score: 0.860036832412523\n",
            "Recall Socer: 0.8616215629326023\n",
            "Precision scoer: 0.868891042503115\n",
            "F1 score: 0.8595179738562091\n",
            "Classification report:\n",
            "               precision    recall  f1-score   support\n",
            "\n",
            "           0       0.81      0.94      0.87       266\n",
            "           1       0.93      0.78      0.85       277\n",
            "\n",
            "    accuracy                           0.86       543\n",
            "   macro avg       0.87      0.86      0.86       543\n",
            "weighted avg       0.87      0.86      0.86       543\n",
            "\n",
            "Confusion Matrix: \n",
            " [[250  16]\n",
            " [ 60 217]]\n"
          ]
        },
        {
          "name": "stderr",
          "output_type": "stream",
          "text": [
            "c:\\Users\\fathy\\anaconda3\\ana 3\\lib\\site-packages\\sklearn\\metrics\\_classification.py:1370: UserWarning: Note that pos_label (set to 'positive') is ignored when average != 'binary' (got 'macro'). You may use labels=[pos_label] to specify a single positive class.\n",
            "  warnings.warn(\n",
            "c:\\Users\\fathy\\anaconda3\\ana 3\\lib\\site-packages\\sklearn\\metrics\\_classification.py:1370: UserWarning: Note that pos_label (set to 'positive') is ignored when average != 'binary' (got 'macro'). You may use labels=[pos_label] to specify a single positive class.\n",
            "  warnings.warn(\n",
            "c:\\Users\\fathy\\anaconda3\\ana 3\\lib\\site-packages\\sklearn\\metrics\\_classification.py:1370: UserWarning: Note that pos_label (set to 'positive') is ignored when average != 'binary' (got 'macro'). You may use labels=[pos_label] to specify a single positive class.\n",
            "  warnings.warn(\n"
          ]
        },
        {
          "data": {
            "image/png": "[encoded data removed]",
            "text/plain": [
              "<Figure size 640x480 with 2 Axes>"
            ]
          },
          "metadata": {},
          "output_type": "display_data"
        }
      ],
      "source": [
        "from sklearn.ensemble import RandomForestClassifier\n",
        "rfc = RandomForestClassifier(n_estimators = 200)\n",
        "rfc.fit(x_train, y_train)\n",
        "y_pred = rfc.predict(x_test)\n",
        "# calculate train score\n",
        "print('RandomForestClassifier Train Score: ' , rfc.score(x_train, y_train))\n",
        "# calculate test score\n",
        "print('RandomForestClassifier Test Score: ' , rfc.score(x_test, y_test))\n",
        "# show accuracy score\n",
        "print(\"Accuracy Score:\" , accuracy_score(y_test , y_pred))\n",
        "# show recall score\n",
        "print(\"Recall Socer:\" , recall_score(y_test , y_pred , pos_label='positive' , average='macro'))\n",
        "# show precision score\n",
        "print(\"Precision scoer:\" , precision_score(y_test , y_pred,pos_label='positive' , average='macro'))\n",
        "# show f1 score\n",
        "print(\"F1 score:\" , f1_score(y_test , y_pred,pos_label='positive' , average='macro'))\n",
        "# show classification report\n",
        "print(\"Classification report:\\n\" , classification_report(y_test , y_pred))\n",
        "# show the confusion matrix\n",
        "conf_mat = confusion_matrix(y_test , y_pred)\n",
        "print(\"Confusion Matrix: \\n\" , conf_mat);\n",
        "# drawing confusion matrix\n",
        "sns.heatmap(conf_mat, center = True)\n",
        "plt.show();"
      ]
    },
    {
      "cell_type": "markdown",
      "metadata": {
        "id": "PqGENcK5NSHd"
      },
      "source": [
        "# Naive Bayes"
      ]
    },
    {
      "cell_type": "code",
      "execution_count": 41,
      "metadata": {
        "id": "z9RIXg_QNONp"
      },
      "outputs": [
        {
          "name": "stdout",
          "output_type": "stream",
          "text": [
            "Accuracy Score: 0.5377532228360957\n",
            "Recall Socer: 0.5336445807659944\n",
            "Precision scoer: 0.5403076322721212\n",
            "F1 score: 0.5156489322762117\n",
            "Classification report:                precision    recall  f1-score   support\n",
            "\n",
            "           0       0.55      0.33      0.41       266\n",
            "           1       0.53      0.74      0.62       277\n",
            "\n",
            "    accuracy                           0.54       543\n",
            "   macro avg       0.54      0.53      0.52       543\n",
            "weighted avg       0.54      0.54      0.52       543\n",
            "\n",
            "Confusion Matrix: \n",
            " [[ 88 178]\n",
            " [ 73 204]]\n"
          ]
        },
        {
          "name": "stderr",
          "output_type": "stream",
          "text": [
            "c:\\Users\\fathy\\anaconda3\\ana 3\\lib\\site-packages\\sklearn\\metrics\\_classification.py:1370: UserWarning: Note that pos_label (set to 'positive') is ignored when average != 'binary' (got 'macro'). You may use labels=[pos_label] to specify a single positive class.\n",
            "  warnings.warn(\n",
            "c:\\Users\\fathy\\anaconda3\\ana 3\\lib\\site-packages\\sklearn\\metrics\\_classification.py:1370: UserWarning: Note that pos_label (set to 'positive') is ignored when average != 'binary' (got 'macro'). You may use labels=[pos_label] to specify a single positive class.\n",
            "  warnings.warn(\n",
            "c:\\Users\\fathy\\anaconda3\\ana 3\\lib\\site-packages\\sklearn\\metrics\\_classification.py:1370: UserWarning: Note that pos_label (set to 'positive') is ignored when average != 'binary' (got 'macro'). You may use labels=[pos_label] to specify a single positive class.\n",
            "  warnings.warn(\n"
          ]
        },
        {
          "data": {
            "image/png": "[encoded data removed]",
            "text/plain": [
              "<Figure size 640x480 with 2 Axes>"
            ]
          },
          "metadata": {},
          "output_type": "display_data"
        }
      ],
      "source": [
        "from sklearn.naive_bayes import MultinomialNB\n",
        "\n",
        "gnb = MultinomialNB()\n",
        "\n",
        "#prediction from x_test\n",
        "y_pred = gnb.fit(x_train, y_train).predict(x_test)\n",
        "#Accuracy score\n",
        "print(\"Accuracy Score:\" , accuracy_score(y_test , y_pred))\n",
        "#Recall score\n",
        "print(\"Recall Socer:\" , recall_score(y_test , y_pred , pos_label='positive' , average='macro'))\n",
        "#Precision score\n",
        "print(\"Precision scoer:\" , precision_score(y_test , y_pred,pos_label='positive' , average='macro'))\n",
        "#f1 score\n",
        "print(\"F1 score:\" , f1_score(y_test , y_pred,pos_label='positive' , average='macro'))\n",
        "print(\"Classification report: \" , classification_report(y_test , y_pred));\n",
        "#Confusion matrix\n",
        "matrix = confusion_matrix(y_test , y_pred)\n",
        "print(\"Confusion Matrix: \\n\" , matrix);\n",
        "#Draw confusion matrix from heatmap\n",
        "sns.heatmap(matrix, center = True)\n",
        "plt.show();"
      ]
    },
    {
      "cell_type": "markdown",
      "metadata": {
        "id": "uoood2sANVQs"
      },
      "source": [
        "# Logistics Regression "
      ]
    },
    {
      "cell_type": "code",
      "execution_count": 42,
      "metadata": {
        "id": "xl3gNXesNYUE"
      },
      "outputs": [
        {
          "name": "stdout",
          "output_type": "stream",
          "text": [
            "Logistic Regression train Score:  0.5534278331844196\n",
            "Logistic Regression test Score:  0.5340699815837937\n",
            "Accuracy Score: 0.5340699815837937\n",
            "Recall Socer: 0.53645395076138\n",
            "Precision scoer: 0.5385476463834673\n",
            "F1 score: 0.5286927286138223\n",
            "Classification report:                precision    recall  f1-score   support\n",
            "\n",
            "           0       0.52      0.65      0.58       266\n",
            "           1       0.56      0.42      0.48       277\n",
            "\n",
            "    accuracy                           0.53       543\n",
            "   macro avg       0.54      0.54      0.53       543\n",
            "weighted avg       0.54      0.53      0.53       543\n",
            "\n",
            "Confusion Matrix: \n",
            " [[250  16]\n",
            " [ 60 217]]\n"
          ]
        },
        {
          "name": "stderr",
          "output_type": "stream",
          "text": [
            "c:\\Users\\fathy\\anaconda3\\ana 3\\lib\\site-packages\\sklearn\\metrics\\_classification.py:1370: UserWarning: Note that pos_label (set to 'positive') is ignored when average != 'binary' (got 'macro'). You may use labels=[pos_label] to specify a single positive class.\n",
            "  warnings.warn(\n",
            "c:\\Users\\fathy\\anaconda3\\ana 3\\lib\\site-packages\\sklearn\\metrics\\_classification.py:1370: UserWarning: Note that pos_label (set to 'positive') is ignored when average != 'binary' (got 'macro'). You may use labels=[pos_label] to specify a single positive class.\n",
            "  warnings.warn(\n",
            "c:\\Users\\fathy\\anaconda3\\ana 3\\lib\\site-packages\\sklearn\\metrics\\_classification.py:1370: UserWarning: Note that pos_label (set to 'positive') is ignored when average != 'binary' (got 'macro'). You may use labels=[pos_label] to specify a single positive class.\n",
            "  warnings.warn(\n"
          ]
        },
        {
          "data": {
            "image/png": "[encoded data removed]",
            "text/plain": [
              "<Figure size 640x480 with 2 Axes>"
            ]
          },
          "metadata": {},
          "output_type": "display_data"
        }
      ],
      "source": [
        "from sklearn.linear_model import LogisticRegression\n",
        "\n",
        "logisitc_variable = LogisticRegression(C=10,penalty='l2',max_iter=2000)\n",
        "logisitc_variable.fit(x_train, y_train)\n",
        "\n",
        "#Calculating train score and test score\n",
        "print('Logistic Regression train Score: ' , logisitc_variable.score(x_train, y_train))\n",
        "print('Logistic Regression test Score: ' , logisitc_variable.score(x_test, y_test))\n",
        "\n",
        "#prediction from x_test\n",
        "y_pred = logisitc_variable.predict(x_test)\n",
        "#Accuracy score\n",
        "print(\"Accuracy Score:\" , accuracy_score(y_test , y_pred))\n",
        "#Recall score\n",
        "print(\"Recall Socer:\" , recall_score(y_test , y_pred , pos_label='positive' , average='macro'))\n",
        "#Precision score\n",
        "print(\"Precision scoer:\" , precision_score(y_test , y_pred,pos_label='positive' , average='macro'))\n",
        "#f1 score\n",
        "print(\"F1 score:\" , f1_score(y_test , y_pred,pos_label='positive' , average='macro'))\n",
        "print(\"Classification report: \" , classification_report(y_test , y_pred));\n",
        "#Confusion matrix\n",
        "matrix = confusion_matrix(y_test , y_pred)\n",
        "print(\"Confusion Matrix: \\n\" , conf_mat);\n",
        "#Draw confusion matrix from heatmap\n",
        "sns.heatmap(matrix, center = True)\n",
        "plt.show();"
      ]
    },
    {
      "cell_type": "markdown",
      "metadata": {
        "id": "iIRfFI8ZUPyp"
      },
      "source": [
        "# SVC"
      ]
    },
    {
      "cell_type": "code",
      "execution_count": 45,
      "metadata": {
        "id": "qKfqbp2AOP8n"
      },
      "outputs": [
        {
          "name": "stderr",
          "output_type": "stream",
          "text": [
            "c:\\Users\\fathy\\anaconda3\\ana 3\\lib\\site-packages\\sklearn\\svm\\_base.py:284: ConvergenceWarning: Solver terminated early (max_iter=100).  Consider pre-processing your data with StandardScaler or MinMaxScaler.\n",
            "  warnings.warn(\n"
          ]
        },
        {
          "name": "stdout",
          "output_type": "stream",
          "text": [
            "SVC Train Score:  0.5110236410615537\n",
            "SVC Test Score:  0.5340699815837937\n",
            "Accuracy Score: 0.5340699815837937\n",
            "Recall Socer: 0.5328709861295838\n",
            "Precision scoer: 0.5333351684650958\n",
            "F1 score: 0.5317768954175968\n",
            "Classification report:                precision    recall  f1-score   support\n",
            "\n",
            "           0       0.53      0.47      0.50       266\n",
            "           1       0.54      0.59      0.56       277\n",
            "\n",
            "    accuracy                           0.53       543\n",
            "   macro avg       0.53      0.53      0.53       543\n",
            "weighted avg       0.53      0.53      0.53       543\n",
            "\n",
            "Confusion Matrix: \n",
            " [[250  16]\n",
            " [ 60 217]]\n"
          ]
        },
        {
          "name": "stderr",
          "output_type": "stream",
          "text": [
            "c:\\Users\\fathy\\anaconda3\\ana 3\\lib\\site-packages\\sklearn\\metrics\\_classification.py:1370: UserWarning: Note that pos_label (set to 'positive') is ignored when average != 'binary' (got 'macro'). You may use labels=[pos_label] to specify a single positive class.\n",
            "  warnings.warn(\n",
            "c:\\Users\\fathy\\anaconda3\\ana 3\\lib\\site-packages\\sklearn\\metrics\\_classification.py:1370: UserWarning: Note that pos_label (set to 'positive') is ignored when average != 'binary' (got 'macro'). You may use labels=[pos_label] to specify a single positive class.\n",
            "  warnings.warn(\n",
            "c:\\Users\\fathy\\anaconda3\\ana 3\\lib\\site-packages\\sklearn\\metrics\\_classification.py:1370: UserWarning: Note that pos_label (set to 'positive') is ignored when average != 'binary' (got 'macro'). You may use labels=[pos_label] to specify a single positive class.\n",
            "  warnings.warn(\n"
          ]
        },
        {
          "data": {
            "image/png": "[encoded data removed]",
            "text/plain": [
              "<Figure size 640x480 with 2 Axes>"
            ]
          },
          "metadata": {},
          "output_type": "display_data"
        }
      ],
      "source": [
        "from sklearn.svm import SVC\n",
        "\n",
        "svc_variable = SVC(kernel = 'linear' , max_iter = 200)\n",
        "svc_variable.fit(x_train, y_train)\n",
        "\n",
        "print('SVC Train Score: ' , svc_variable.score(x_train, y_train))\n",
        "print('SVC Test Score: ' , svc_variable.score(x_test, y_test))\n",
        "\n",
        "#prediction from x_test\n",
        "y_pred = svc_variable.predict(x_test)\n",
        "#Accuracy score\n",
        "print(\"Accuracy Score:\" , accuracy_score(y_test , y_pred))\n",
        "#Recall score\n",
        "print(\"Recall Socer:\" , recall_score(y_test , y_pred , pos_label='positive' , average='macro'))\n",
        "#Precision score\n",
        "print(\"Precision scoer:\" , precision_score(y_test , y_pred,pos_label='positive' , average='macro'))\n",
        "#f1 score\n",
        "print(\"F1 score:\" , f1_score(y_test , y_pred,pos_label='positive' , average='macro'))\n",
        "print(\"Classification report: \" , classification_report(y_test , y_pred));\n",
        "#Confusion matrix\n",
        "matrix = confusion_matrix(y_test , y_pred)\n",
        "print(\"Confusion Matrix: \\n\" , conf_mat);\n",
        "#Draw confusion matrix from heatmap\n",
        "sns.heatmap(matrix, center = True)\n",
        "plt.show();"
      ]
    },
    {
      "attachments": {},
      "cell_type": "markdown",
      "metadata": {},
      "source": [
        "# LinearSVC"
      ]
    },
    {
      "cell_type": "code",
      "execution_count": 38,
      "metadata": {},
      "outputs": [
        {
          "name": "stdout",
          "output_type": "stream",
          "text": [
            "Accuracy Score: 0.5230202578268877\n",
            "Recall Socer: 0.5166662142721424\n",
            "Precision scoer: 0.5275077281483804\n",
            "F1 score: 0.4670276989309251\n",
            "Classification report:\n",
            "               precision    recall  f1-score   support\n",
            "\n",
            "           0       0.53      0.20      0.29       266\n",
            "           1       0.52      0.83      0.64       277\n",
            "\n",
            "    accuracy                           0.52       543\n",
            "   macro avg       0.53      0.52      0.47       543\n",
            "weighted avg       0.53      0.52      0.47       543\n",
            "\n",
            "Confusion Matrix: \n",
            " [[ 54 212]\n",
            " [ 47 230]]\n"
          ]
        },
        {
          "name": "stderr",
          "output_type": "stream",
          "text": [
            "c:\\Users\\fathy\\anaconda3\\ana 3\\lib\\site-packages\\sklearn\\svm\\_base.py:1206: ConvergenceWarning: Liblinear failed to converge, increase the number of iterations.\n",
            "  warnings.warn(\n",
            "c:\\Users\\fathy\\anaconda3\\ana 3\\lib\\site-packages\\sklearn\\metrics\\_classification.py:1370: UserWarning: Note that pos_label (set to 'positive') is ignored when average != 'binary' (got 'macro'). You may use labels=[pos_label] to specify a single positive class.\n",
            "  warnings.warn(\n",
            "c:\\Users\\fathy\\anaconda3\\ana 3\\lib\\site-packages\\sklearn\\metrics\\_classification.py:1370: UserWarning: Note that pos_label (set to 'positive') is ignored when average != 'binary' (got 'macro'). You may use labels=[pos_label] to specify a single positive class.\n",
            "  warnings.warn(\n",
            "c:\\Users\\fathy\\anaconda3\\ana 3\\lib\\site-packages\\sklearn\\metrics\\_classification.py:1370: UserWarning: Note that pos_label (set to 'positive') is ignored when average != 'binary' (got 'macro'). You may use labels=[pos_label] to specify a single positive class.\n",
            "  warnings.warn(\n"
          ]
        },
        {
          "data": {
            "image/png": "[encoded data removed]",
            "text/plain": [
              "<Figure size 640x480 with 2 Axes>"
            ]
          },
          "metadata": {},
          "output_type": "display_data"
        }
      ],
      "source": [
        "# applying svm\n",
        "from sklearn.svm import LinearSVC\n",
        "svc_model = LinearSVC()\n",
        "svc_model.fit(x_train , y_train)\n",
        "y_pred = svc_model.predict(x_test)\n",
        "# show accuracy score\n",
        "print(\"Accuracy Score:\" , accuracy_score(y_test , y_pred))\n",
        "# show recall score\n",
        "print(\"Recall Socer:\" , recall_score(y_test , y_pred , pos_label='positive' , average='macro'))\n",
        "# show precision score\n",
        "print(\"Precision scoer:\" , precision_score(y_test , y_pred,pos_label='positive' , average='macro'))\n",
        "# show f1 score\n",
        "print(\"F1 score:\" , f1_score(y_test , y_pred,pos_label='positive' , average='macro'))\n",
        "# show classification report\n",
        "print(\"Classification report:\\n\" , classification_report(y_test , y_pred));\n",
        "# show the confusion matrix\n",
        "conf_mat = confusion_matrix(y_test , y_pred)\n",
        "print(\"Confusion Matrix: \\n\" , conf_mat);\n",
        "# drawing confusion matrix\n",
        "sns.heatmap(conf_mat, center = True)\n",
        "plt.show();"
      ]
    },
    {
      "attachments": {},
      "cell_type": "markdown",
      "metadata": {},
      "source": [
        "# BernoulliNB"
      ]
    },
    {
      "cell_type": "code",
      "execution_count": 39,
      "metadata": {},
      "outputs": [
        {
          "name": "stdout",
          "output_type": "stream",
          "text": [
            "Accuracy Score: 0.5046040515653776\n",
            "Recall Socer: 0.5040647648000869\n",
            "Precision scoer: 0.5040747190552638\n",
            "F1 score: 0.5039310712551239\n",
            "Classification report:\n",
            "               precision    recall  f1-score   support\n",
            "\n",
            "           0       0.49      0.48      0.49       266\n",
            "           1       0.51      0.53      0.52       277\n",
            "\n",
            "    accuracy                           0.50       543\n",
            "   macro avg       0.50      0.50      0.50       543\n",
            "weighted avg       0.50      0.50      0.50       543\n",
            "\n",
            "Confusion Matrix: \n",
            " [[127 139]\n",
            " [130 147]]\n"
          ]
        },
        {
          "name": "stderr",
          "output_type": "stream",
          "text": [
            "c:\\Users\\fathy\\anaconda3\\ana 3\\lib\\site-packages\\sklearn\\metrics\\_classification.py:1370: UserWarning: Note that pos_label (set to 'positive') is ignored when average != 'binary' (got 'macro'). You may use labels=[pos_label] to specify a single positive class.\n",
            "  warnings.warn(\n",
            "c:\\Users\\fathy\\anaconda3\\ana 3\\lib\\site-packages\\sklearn\\metrics\\_classification.py:1370: UserWarning: Note that pos_label (set to 'positive') is ignored when average != 'binary' (got 'macro'). You may use labels=[pos_label] to specify a single positive class.\n",
            "  warnings.warn(\n",
            "c:\\Users\\fathy\\anaconda3\\ana 3\\lib\\site-packages\\sklearn\\metrics\\_classification.py:1370: UserWarning: Note that pos_label (set to 'positive') is ignored when average != 'binary' (got 'macro'). You may use labels=[pos_label] to specify a single positive class.\n",
            "  warnings.warn(\n"
          ]
        },
        {
          "data": {
            "image/png": "[encoded data removed]",
            "text/plain": [
              "<Figure size 640x480 with 2 Axes>"
            ]
          },
          "metadata": {},
          "output_type": "display_data"
        }
      ],
      "source": [
        "#applying bernolli naive bais\n",
        "from sklearn.naive_bayes import BernoulliNB\n",
        "Bnm_model = BernoulliNB()\n",
        "Bnm_model.fit(x_train , y_train)\n",
        "y_pred = Bnm_model.predict(x_test)\n",
        "# show accuracy score\n",
        "print(\"Accuracy Score:\" , accuracy_score(y_test , y_pred))\n",
        "# show recall score\n",
        "print(\"Recall Socer:\" , recall_score(y_test , y_pred , pos_label='positive' , average='macro'))\n",
        "# show precision score\n",
        "print(\"Precision scoer:\" , precision_score(y_test , y_pred,pos_label='positive' , average='macro'))\n",
        "# show f1 score\n",
        "print(\"F1 score:\" , f1_score(y_test , y_pred,pos_label='positive' , average='macro'))\n",
        "# show classification report\n",
        "print(\"Classification report:\\n\" , classification_report(y_test , y_pred));\n",
        "# show the confusion matrix\n",
        "conf_mat = confusion_matrix(y_test , y_pred)\n",
        "print(\"Confusion Matrix: \\n\" , conf_mat);\n",
        "# drawing confusion matrix\n",
        "sns.heatmap(conf_mat, center = True)\n",
        "plt.show();"
      ]
    }
  ],
  "metadata": {
    "accelerator": "GPU",
    "colab": {
      "provenance": []
    },
    "gpuClass": "standard",
    "kernelspec": {
      "display_name": "base",
      "language": "python",
      "name": "python3"
    },
    "language_info": {
      "codemirror_mode": {
        "name": "ipython",
        "version": 3
      },
      "file_extension": ".py",
      "mimetype": "text/x-python",
      "name": "python",
      "nbconvert_exporter": "python",
      "pygments_lexer": "ipython3",
      "version": "3.9.13 (main, Aug 25 2022, 23:51:50) [MSC v.1916 64 bit (AMD64)]"
    },
    "orig_nbformat": 4,
    "vscode": {
      "interpreter": {
        "hash": "cc9b190aad6cf5c03a98d38f3dc03c8b351a7d25b5f8281ffd40b04297e23c5e"
      }
    }
  },
  "nbformat": 4,
  "nbformat_minor": 0
}
